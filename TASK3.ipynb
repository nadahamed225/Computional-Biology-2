{
 "cells": [
  {
   "cell_type": "code",
   "execution_count": 83,
   "id": "2ca7ce45",
   "metadata": {},
   "outputs": [],
   "source": [
    "import cobra"
   ]
  },
  {
   "cell_type": "code",
   "execution_count": 84,
   "id": "b505a5b1",
   "metadata": {},
   "outputs": [],
   "source": [
    "from cobra import Model,Reaction,Metabolite"
   ]
  },
  {
   "cell_type": "code",
   "execution_count": 85,
   "id": "ab2a5f10",
   "metadata": {},
   "outputs": [],
   "source": [
    "model=Model('Model_1')"
   ]
  },
  {
   "cell_type": "code",
   "execution_count": 103,
   "id": "f6daf731",
   "metadata": {},
   "outputs": [],
   "source": [
    "#### Reactions ####\n",
    "\n",
    "v0=Reaction('V0')\n",
    "v0.name='V0'\n",
    "v0.lower_bound=1\n",
    "v0.upper_bound=1\n",
    "\n",
    "v1=Reaction('V1')\n",
    "v1.name='V1'\n",
    "v1.lower_bound=0\n",
    "v1.upper_bound=1000\n",
    "\n",
    "\n",
    "v2=Reaction('V2')\n",
    "v2.name='V2'\n",
    "v2.lower_bound=0\n",
    "v2.upper_bound=1000\n",
    "\n",
    "\n",
    "M=Reaction('Model_1')\n",
    "M.name='Model_1'\n",
    "M.lower_bound=0\n",
    "M.upper_bound=1000"
   ]
  },
  {
   "cell_type": "code",
   "execution_count": 104,
   "id": "2728c73e",
   "metadata": {},
   "outputs": [],
   "source": [
    "### Metabolites ###\n",
    "\n",
    "glc=Metabolite('glc',compartment='C')\n",
    "AA=Metabolite('AA',compartment='C')\n",
    "biomass=Metabolite('biomass',compartment='C')"
   ]
  },
  {
   "cell_type": "code",
   "execution_count": 105,
   "id": "97644e6b",
   "metadata": {},
   "outputs": [],
   "source": [
    "v0.add_metabolites({glc:1})\n",
    "\n",
    "v1.add_metabolites({glc:-1,AA:1})\n",
    "\n",
    "v2.add_metabolites({AA:-9.09,biomass:1})\n",
    "\n",
    "M.add_metabolites({biomass:-1})"
   ]
  },
  {
   "cell_type": "code",
   "execution_count": 106,
   "id": "67a6a66c",
   "metadata": {},
   "outputs": [
    {
     "name": "stderr",
     "output_type": "stream",
     "text": [
      "Ignoring reaction 'V0' since it already exists.\n",
      "Ignoring reaction 'V1' since it already exists.\n",
      "Ignoring reaction 'V2' since it already exists.\n",
      "Ignoring reaction 'Model_1' since it already exists.\n"
     ]
    }
   ],
   "source": [
    "model.add_reactions([v0,v1,v2,M])"
   ]
  },
  {
   "cell_type": "code",
   "execution_count": 107,
   "id": "49f9ecae",
   "metadata": {},
   "outputs": [],
   "source": [
    "model.objective='Model_1'"
   ]
  },
  {
   "cell_type": "code",
   "execution_count": 108,
   "id": "dbec7eed",
   "metadata": {},
   "outputs": [
    {
     "data": {
      "text/html": [
       "<strong><em>Optimal</em> solution with objective value 0.110</strong><br><div>\n",
       "<style scoped>\n",
       "    .dataframe tbody tr th:only-of-type {\n",
       "        vertical-align: middle;\n",
       "    }\n",
       "\n",
       "    .dataframe tbody tr th {\n",
       "        vertical-align: top;\n",
       "    }\n",
       "\n",
       "    .dataframe thead th {\n",
       "        text-align: right;\n",
       "    }\n",
       "</style>\n",
       "<table border=\"1\" class=\"dataframe\">\n",
       "  <thead>\n",
       "    <tr style=\"text-align: right;\">\n",
       "      <th></th>\n",
       "      <th>fluxes</th>\n",
       "      <th>reduced_costs</th>\n",
       "    </tr>\n",
       "  </thead>\n",
       "  <tbody>\n",
       "    <tr>\n",
       "      <th>V0</th>\n",
       "      <td>1.000000</td>\n",
       "      <td>0.220022</td>\n",
       "    </tr>\n",
       "    <tr>\n",
       "      <th>V1</th>\n",
       "      <td>1.000000</td>\n",
       "      <td>0.000000</td>\n",
       "    </tr>\n",
       "    <tr>\n",
       "      <th>V2</th>\n",
       "      <td>0.110011</td>\n",
       "      <td>0.000000</td>\n",
       "    </tr>\n",
       "    <tr>\n",
       "      <th>Model_1</th>\n",
       "      <td>0.110011</td>\n",
       "      <td>0.000000</td>\n",
       "    </tr>\n",
       "  </tbody>\n",
       "</table>\n",
       "</div>"
      ],
      "text/plain": [
       "<Solution 0.110 at 0x165815a84f0>"
      ]
     },
     "execution_count": 108,
     "metadata": {},
     "output_type": "execute_result"
    }
   ],
   "source": [
    "model.optimize()"
   ]
  },
  {
   "cell_type": "code",
   "execution_count": 114,
   "id": "b2d2c2a5",
   "metadata": {
    "scrolled": true
   },
   "outputs": [
    {
     "data": {
      "text/html": [
       "<h3>Objective</h3><p>1.0 Model_1 = 0.11001100110011001</p><h4>Uptake</h4><table border=\"1\" class=\"dataframe\">\n",
       "  <thead>\n",
       "    <tr style=\"text-align: right;\">\n",
       "      <th>Metabolite</th>\n",
       "      <th>Reaction</th>\n",
       "      <th>Flux</th>\n",
       "      <th>C-Number</th>\n",
       "      <th>C-Flux</th>\n",
       "    </tr>\n",
       "  </thead>\n",
       "  <tbody>\n",
       "    <tr>\n",
       "      <td>glc</td>\n",
       "      <td>V0</td>\n",
       "      <td>2</td>\n",
       "      <td>0</td>\n",
       "      <td>0.00%</td>\n",
       "    </tr>\n",
       "  </tbody>\n",
       "</table><h4>Secretion</h4><table border=\"1\" class=\"dataframe\">\n",
       "  <thead>\n",
       "    <tr style=\"text-align: right;\">\n",
       "      <th>Metabolite</th>\n",
       "      <th>Reaction</th>\n",
       "      <th>Flux</th>\n",
       "      <th>C-Number</th>\n",
       "      <th>C-Flux</th>\n",
       "    </tr>\n",
       "  </thead>\n",
       "  <tbody>\n",
       "    <tr>\n",
       "      <td>biomass</td>\n",
       "      <td>Model_1</td>\n",
       "      <td>-0.22</td>\n",
       "      <td>0</td>\n",
       "      <td>0.00%</td>\n",
       "    </tr>\n",
       "  </tbody>\n",
       "</table>"
      ],
      "text/plain": [
       "<cobra.summary.model_summary.ModelSummary at 0x165815ae8e0>"
      ]
     },
     "execution_count": 114,
     "metadata": {},
     "output_type": "execute_result"
    }
   ],
   "source": [
    "model.summary()"
   ]
  },
  {
   "cell_type": "code",
   "execution_count": 120,
   "id": "bfa1ea3d",
   "metadata": {},
   "outputs": [],
   "source": [
    "cobra.io.save_json_model(model,\"taskk3.json\")"
   ]
  },
  {
   "cell_type": "code",
   "execution_count": 121,
   "id": "19203743",
   "metadata": {},
   "outputs": [],
   "source": [
    "import escher"
   ]
  },
  {
   "cell_type": "code",
   "execution_count": 122,
   "id": "785da1a8",
   "metadata": {},
   "outputs": [],
   "source": [
    "from escher import Builder"
   ]
  },
  {
   "cell_type": "code",
   "execution_count": 123,
   "id": "4aa3a65b",
   "metadata": {},
   "outputs": [],
   "source": [
    "builder= Builder()"
   ]
  },
  {
   "cell_type": "code",
   "execution_count": 124,
   "id": "68b1f68d",
   "metadata": {},
   "outputs": [
    {
     "data": {
      "application/vnd.jupyter.widget-view+json": {
       "model_id": "8f95447efe0141e789bdbe19d0309641",
       "version_major": 2,
       "version_minor": 0
      },
      "text/plain": [
       "Builder()"
      ]
     },
     "metadata": {},
     "output_type": "display_data"
    }
   ],
   "source": [
    "builder"
   ]
  },
  {
   "cell_type": "code",
   "execution_count": null,
   "id": "178b5910",
   "metadata": {},
   "outputs": [],
   "source": []
  }
 ],
 "metadata": {
  "kernelspec": {
   "display_name": "Python 3 (ipykernel)",
   "language": "python",
   "name": "python3"
  },
  "language_info": {
   "codemirror_mode": {
    "name": "ipython",
    "version": 3
   },
   "file_extension": ".py",
   "mimetype": "text/x-python",
   "name": "python",
   "nbconvert_exporter": "python",
   "pygments_lexer": "ipython3",
   "version": "3.9.7"
  }
 },
 "nbformat": 4,
 "nbformat_minor": 5
}
