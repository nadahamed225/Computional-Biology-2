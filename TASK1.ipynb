{
 "cells": [
  {
   "cell_type": "code",
   "execution_count": 27,
   "id": "2ca7ce45",
   "metadata": {},
   "outputs": [],
   "source": [
    "import cobra"
   ]
  },
  {
   "cell_type": "code",
   "execution_count": 28,
   "id": "b505a5b1",
   "metadata": {},
   "outputs": [],
   "source": [
    "from cobra import Model,Reaction,Metabolite"
   ]
  },
  {
   "cell_type": "code",
   "execution_count": 29,
   "id": "ab2a5f10",
   "metadata": {},
   "outputs": [],
   "source": [
    "model=Model('Model_1')"
   ]
  },
  {
   "cell_type": "code",
   "execution_count": 30,
   "id": "f6daf731",
   "metadata": {},
   "outputs": [],
   "source": [
    "#### Reactions ####\n",
    "\n",
    "v1=Reaction('V1')\n",
    "v1.name='V1'\n",
    "v1.lower_bound=0\n",
    "v1.upper_bound=1000\n",
    "\n",
    "\n",
    "v2=Reaction('V2')\n",
    "v2.name='V2'\n",
    "v2.lower_bound=0\n",
    "v2.upper_bound=1000\n",
    "\n",
    "\n",
    "M1=Reaction('Model_1')\n",
    "M1.name='Model_1'\n",
    "M1.lower_bound=0\n",
    "M1.upper_bound=1000\n",
    "\n",
    "\n",
    "v0=Reaction('V0')\n",
    "v0.name='V0'\n",
    "v0.lower_bound=1\n",
    "v0.upper_bound=1\n",
    "\n",
    "\n",
    "v3=Reaction('V3')\n",
    "v3.name='V3'\n",
    "v3.lower_bound=.9\n",
    "v3.upper_bound=.9\n",
    "\n",
    "\n",
    "v4=Reaction('V4')\n",
    "v4.name='V4'\n",
    "v4.lower_bound=0\n",
    "v4.upper_bound=1000\n"
   ]
  },
  {
   "cell_type": "code",
   "execution_count": 31,
   "id": "2728c73e",
   "metadata": {},
   "outputs": [],
   "source": [
    "### Metabolites ###\n",
    "\n",
    "A=Metabolite('A',compartment='C')\n",
    "B=Metabolite('B',compartment='C')\n",
    "C=Metabolite('C',compartment='C')\n",
    "ATP=Metabolite('ATP',compartment='C')"
   ]
  },
  {
   "cell_type": "code",
   "execution_count": 32,
   "id": "97644e6b",
   "metadata": {},
   "outputs": [],
   "source": [
    "# V1 : A--->B \n",
    "v1.add_metabolites({A:-1,B:1})\n",
    "\n",
    "## V2 : B--->C \n",
    "v2.add_metabolites({B:-1,C:1})\n",
    "\n",
    "### V0 : --->A \n",
    "v0.add_metabolites({A:1})\n",
    "\n",
    "#### M : C--> \n",
    "M1.add_metabolites({C:-1})\n",
    "\n",
    "##### V3 : A--->ATP \n",
    "v3.add_metabolites({A:-1,ATP:1})\n",
    "\n",
    "###### V4 : ATP\n",
    "v4.add_metabolites({ATP:-1})"
   ]
  },
  {
   "cell_type": "code",
   "execution_count": 33,
   "id": "67a6a66c",
   "metadata": {},
   "outputs": [],
   "source": [
    "model.add_reactions([v0,v1,v2,v3,v4,M1])"
   ]
  },
  {
   "cell_type": "code",
   "execution_count": 36,
   "id": "49f9ecae",
   "metadata": {},
   "outputs": [],
   "source": [
    "model.objective='Model_1'"
   ]
  },
  {
   "cell_type": "code",
   "execution_count": 37,
   "id": "dbec7eed",
   "metadata": {},
   "outputs": [
    {
     "data": {
      "text/html": [
       "<strong><em>Optimal</em> solution with objective value 0.100</strong><br><div>\n",
       "<style scoped>\n",
       "    .dataframe tbody tr th:only-of-type {\n",
       "        vertical-align: middle;\n",
       "    }\n",
       "\n",
       "    .dataframe tbody tr th {\n",
       "        vertical-align: top;\n",
       "    }\n",
       "\n",
       "    .dataframe thead th {\n",
       "        text-align: right;\n",
       "    }\n",
       "</style>\n",
       "<table border=\"1\" class=\"dataframe\">\n",
       "  <thead>\n",
       "    <tr style=\"text-align: right;\">\n",
       "      <th></th>\n",
       "      <th>fluxes</th>\n",
       "      <th>reduced_costs</th>\n",
       "    </tr>\n",
       "  </thead>\n",
       "  <tbody>\n",
       "    <tr>\n",
       "      <th>V0</th>\n",
       "      <td>1.0</td>\n",
       "      <td>2.0</td>\n",
       "    </tr>\n",
       "    <tr>\n",
       "      <th>V1</th>\n",
       "      <td>0.1</td>\n",
       "      <td>0.0</td>\n",
       "    </tr>\n",
       "    <tr>\n",
       "      <th>V2</th>\n",
       "      <td>0.1</td>\n",
       "      <td>0.0</td>\n",
       "    </tr>\n",
       "    <tr>\n",
       "      <th>V3</th>\n",
       "      <td>0.9</td>\n",
       "      <td>-2.0</td>\n",
       "    </tr>\n",
       "    <tr>\n",
       "      <th>V4</th>\n",
       "      <td>0.9</td>\n",
       "      <td>0.0</td>\n",
       "    </tr>\n",
       "    <tr>\n",
       "      <th>Model_1</th>\n",
       "      <td>0.1</td>\n",
       "      <td>0.0</td>\n",
       "    </tr>\n",
       "  </tbody>\n",
       "</table>\n",
       "</div>"
      ],
      "text/plain": [
       "<Solution 0.100 at 0x165811810a0>"
      ]
     },
     "execution_count": 37,
     "metadata": {},
     "output_type": "execute_result"
    }
   ],
   "source": [
    "model.optimize()"
   ]
  },
  {
   "cell_type": "code",
   "execution_count": 38,
   "id": "cf7ce9ec",
   "metadata": {},
   "outputs": [
    {
     "data": {
      "text/html": [
       "<h3>Objective</h3><p>1.0 Model_1 = 0.09999999999999998</p><h4>Uptake</h4><table border=\"1\" class=\"dataframe\">\n",
       "  <thead>\n",
       "    <tr style=\"text-align: right;\">\n",
       "      <th>Metabolite</th>\n",
       "      <th>Reaction</th>\n",
       "      <th>Flux</th>\n",
       "      <th>C-Number</th>\n",
       "      <th>C-Flux</th>\n",
       "    </tr>\n",
       "  </thead>\n",
       "  <tbody>\n",
       "    <tr>\n",
       "      <td>A</td>\n",
       "      <td>V0</td>\n",
       "      <td>1</td>\n",
       "      <td>0</td>\n",
       "      <td>0.00%</td>\n",
       "    </tr>\n",
       "  </tbody>\n",
       "</table><h4>Secretion</h4><table border=\"1\" class=\"dataframe\">\n",
       "  <thead>\n",
       "    <tr style=\"text-align: right;\">\n",
       "      <th>Metabolite</th>\n",
       "      <th>Reaction</th>\n",
       "      <th>Flux</th>\n",
       "      <th>C-Number</th>\n",
       "      <th>C-Flux</th>\n",
       "    </tr>\n",
       "  </thead>\n",
       "  <tbody>\n",
       "    <tr>\n",
       "      <td>C</td>\n",
       "      <td>Model_1</td>\n",
       "      <td>-0.1</td>\n",
       "      <td>0</td>\n",
       "      <td>0.00%</td>\n",
       "    </tr>\n",
       "    <tr>\n",
       "      <td>ATP</td>\n",
       "      <td>V4</td>\n",
       "      <td>-0.9</td>\n",
       "      <td>0</td>\n",
       "      <td>0.00%</td>\n",
       "    </tr>\n",
       "  </tbody>\n",
       "</table>"
      ],
      "text/plain": [
       "<cobra.summary.model_summary.ModelSummary at 0x165810c7ee0>"
      ]
     },
     "execution_count": 38,
     "metadata": {},
     "output_type": "execute_result"
    }
   ],
   "source": [
    "model.summary()"
   ]
  },
  {
   "cell_type": "code",
   "execution_count": null,
   "id": "fc260ed0",
   "metadata": {},
   "outputs": [],
   "source": []
  }
 ],
 "metadata": {
  "kernelspec": {
   "display_name": "Python 3 (ipykernel)",
   "language": "python",
   "name": "python3"
  },
  "language_info": {
   "codemirror_mode": {
    "name": "ipython",
    "version": 3
   },
   "file_extension": ".py",
   "mimetype": "text/x-python",
   "name": "python",
   "nbconvert_exporter": "python",
   "pygments_lexer": "ipython3",
   "version": "3.9.7"
  }
 },
 "nbformat": 4,
 "nbformat_minor": 5
}
